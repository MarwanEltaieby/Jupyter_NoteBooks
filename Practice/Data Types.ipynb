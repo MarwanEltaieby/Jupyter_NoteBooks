{
 "cells": [
  {
   "cell_type": "markdown",
   "id": "76a1f72e-8862-4862-9feb-0a7685d3a0e8",
   "metadata": {},
   "source": [
    "# Data Types"
   ]
  },
  {
   "cell_type": "code",
   "execution_count": 1,
   "id": "065f29a6-fe4b-4662-b4af-aadf5cf396fa",
   "metadata": {},
   "outputs": [
    {
     "data": {
      "text/plain": [
       "int"
      ]
     },
     "execution_count": 1,
     "metadata": {},
     "output_type": "execute_result"
    }
   ],
   "source": [
    "type(12)"
   ]
  },
  {
   "cell_type": "code",
   "execution_count": 2,
   "id": "6b5c8409-2759-499b-b137-5c9acf197756",
   "metadata": {},
   "outputs": [
    {
     "data": {
      "text/plain": [
       "int"
      ]
     },
     "execution_count": 2,
     "metadata": {},
     "output_type": "execute_result"
    }
   ],
   "source": [
    "type(-12)"
   ]
  },
  {
   "cell_type": "code",
   "execution_count": 3,
   "id": "3d816ecb-17a6-4fa7-b4c6-862d7de3b156",
   "metadata": {},
   "outputs": [
    {
     "data": {
      "text/plain": [
       "float"
      ]
     },
     "execution_count": 3,
     "metadata": {},
     "output_type": "execute_result"
    }
   ],
   "source": [
    "type(12.5)"
   ]
  },
  {
   "cell_type": "code",
   "execution_count": 4,
   "id": "0a889292-52dc-45df-84e9-60631b988a51",
   "metadata": {},
   "outputs": [
    {
     "data": {
      "text/plain": [
       "float"
      ]
     },
     "execution_count": 4,
     "metadata": {},
     "output_type": "execute_result"
    }
   ],
   "source": [
    "type(12.5 + 10)"
   ]
  },
  {
   "cell_type": "code",
   "execution_count": 5,
   "id": "67d3f677-1815-42b2-ba83-b6d5598ae286",
   "metadata": {},
   "outputs": [
    {
     "data": {
      "text/plain": [
       "bool"
      ]
     },
     "execution_count": 5,
     "metadata": {},
     "output_type": "execute_result"
    }
   ],
   "source": [
    "type(True)"
   ]
  },
  {
   "cell_type": "code",
   "execution_count": 6,
   "id": "dce4b3b1-2478-4b98-8351-7bab7fcc2ba7",
   "metadata": {},
   "outputs": [
    {
     "data": {
      "text/plain": [
       "bool"
      ]
     },
     "execution_count": 6,
     "metadata": {},
     "output_type": "execute_result"
    }
   ],
   "source": [
    "type(False)"
   ]
  },
  {
   "cell_type": "code",
   "execution_count": 7,
   "id": "0924f2c8-d455-4c9e-a918-84e543d7a5fa",
   "metadata": {},
   "outputs": [
    {
     "data": {
      "text/plain": [
       "bool"
      ]
     },
     "execution_count": 7,
     "metadata": {},
     "output_type": "execute_result"
    }
   ],
   "source": [
    "type(1 < 5)"
   ]
  },
  {
   "cell_type": "code",
   "execution_count": 8,
   "id": "e2732c82-0328-45b5-bc1c-02ce178231e3",
   "metadata": {},
   "outputs": [
    {
     "data": {
      "text/plain": [
       "str"
      ]
     },
     "execution_count": 8,
     "metadata": {},
     "output_type": "execute_result"
    }
   ],
   "source": [
    "type('')"
   ]
  },
  {
   "cell_type": "code",
   "execution_count": 9,
   "id": "0fde1fab-1ade-4757-a95b-61c6a0c618a4",
   "metadata": {},
   "outputs": [
    {
     "name": "stdout",
     "output_type": "stream",
     "text": [
      "\n",
      "The ice cream vanquished\n",
      "my longing for sweets,\n",
      "upon this diet I look away,\n",
      "it no longer existed on this day\n",
      "\n"
     ]
    }
   ],
   "source": [
    "multiline_string = \"\"\"\n",
    "The ice cream vanquished\n",
    "my longing for sweets,\n",
    "upon this diet I look away,\n",
    "it no longer existed on this day\n",
    "\"\"\"\n",
    "\n",
    "print(multiline_string)"
   ]
  },
  {
   "cell_type": "code",
   "execution_count": 10,
   "id": "acc2d5d1-2456-4394-b3d3-d7dc6a357cca",
   "metadata": {},
   "outputs": [
    {
     "name": "stdout",
     "output_type": "stream",
     "text": [
      "The ice cream vanquished\n",
      "my longing for sweets,\n",
      "upon this diet I look away,\n",
      "it no longer existed on this day\n"
     ]
    }
   ],
   "source": [
    "multiline_string = \"\"\"The ice cream vanquished\n",
    "my longing for sweets,\n",
    "upon this diet I look away,\n",
    "it no longer existed on this day\"\"\"\n",
    "\n",
    "print(multiline_string)"
   ]
  },
  {
   "cell_type": "code",
   "execution_count": 11,
   "id": "74b83c44-00eb-43ac-b5c9-f5d20cbd27cd",
   "metadata": {},
   "outputs": [
    {
     "data": {
      "text/plain": [
       "str"
      ]
     },
     "execution_count": 11,
     "metadata": {},
     "output_type": "execute_result"
    }
   ],
   "source": [
    "type(multiline_string)"
   ]
  },
  {
   "cell_type": "markdown",
   "id": "15413012-9f17-448a-b760-69b0666ffa9c",
   "metadata": {},
   "source": [
    "### String Indexing"
   ]
  },
  {
   "cell_type": "code",
   "execution_count": 12,
   "id": "df2b7cea-b270-4647-9f38-6977c5ab9c52",
   "metadata": {},
   "outputs": [],
   "source": [
    "a = \"Hello World\""
   ]
  },
  {
   "cell_type": "code",
   "execution_count": 13,
   "id": "ac1eae5f-6577-405d-ad3a-140422207d33",
   "metadata": {},
   "outputs": [
    {
     "name": "stdout",
     "output_type": "stream",
     "text": [
      "Hello\n"
     ]
    }
   ],
   "source": [
    "print(a[:5])"
   ]
  },
  {
   "cell_type": "code",
   "execution_count": 14,
   "id": "51f3285b-9f3c-48f4-94ef-79bb11e4d70b",
   "metadata": {},
   "outputs": [
    {
     "name": "stdout",
     "output_type": "stream",
     "text": [
      "Hell\n"
     ]
    }
   ],
   "source": [
    "print(a[:4])"
   ]
  },
  {
   "cell_type": "code",
   "execution_count": 15,
   "id": "24af6f60-dbc7-402d-b2ef-83504c633584",
   "metadata": {},
   "outputs": [
    {
     "name": "stdout",
     "output_type": "stream",
     "text": [
      "Hello \n"
     ]
    }
   ],
   "source": [
    "print(a[:6])"
   ]
  },
  {
   "cell_type": "code",
   "execution_count": 16,
   "id": "bb6f0a3e-1c53-415c-ae67-35cc5261cf26",
   "metadata": {},
   "outputs": [
    {
     "name": "stdout",
     "output_type": "stream",
     "text": [
      "ll\n"
     ]
    }
   ],
   "source": [
    "#print only the double \"l\"\n",
    "print(a[2:4])"
   ]
  },
  {
   "cell_type": "code",
   "execution_count": 17,
   "id": "bc59b411-1ee9-4a34-b67f-4392137b20f7",
   "metadata": {},
   "outputs": [
    {
     "name": "stdout",
     "output_type": "stream",
     "text": [
      "World\n"
     ]
    }
   ],
   "source": [
    "print(a[6:])"
   ]
  },
  {
   "cell_type": "code",
   "execution_count": 18,
   "id": "a4c8206b-d780-4edb-8c8f-3725982f9aa4",
   "metadata": {},
   "outputs": [
    {
     "name": "stdout",
     "output_type": "stream",
     "text": [
      "r\n"
     ]
    }
   ],
   "source": [
    "print(a[8])"
   ]
  },
  {
   "cell_type": "code",
   "execution_count": 19,
   "id": "2dcf420b-050a-40a3-adb6-5d927793a3d0",
   "metadata": {},
   "outputs": [
    {
     "name": "stdout",
     "output_type": "stream",
     "text": [
      "r\n"
     ]
    }
   ],
   "source": [
    "print(a[-3])"
   ]
  },
  {
   "cell_type": "code",
   "execution_count": 20,
   "id": "bbeeb53f-5621-4362-8ad4-2fee7bfd2bc6",
   "metadata": {},
   "outputs": [
    {
     "data": {
      "text/plain": [
       "'Hello WorldHello WorldHello World'"
      ]
     },
     "execution_count": 20,
     "metadata": {},
     "output_type": "execute_result"
    }
   ],
   "source": [
    "a*3"
   ]
  },
  {
   "cell_type": "code",
   "execution_count": 21,
   "id": "72be5c76-1d80-4653-ab8c-369d0574100c",
   "metadata": {},
   "outputs": [
    {
     "data": {
      "text/plain": [
       "'Hello WorldHello WorldHello World'"
      ]
     },
     "execution_count": 21,
     "metadata": {},
     "output_type": "execute_result"
    }
   ],
   "source": [
    "a * 3"
   ]
  },
  {
   "cell_type": "code",
   "execution_count": 22,
   "id": "204614a7-94c1-4b02-98b7-902d36ee2615",
   "metadata": {},
   "outputs": [
    {
     "data": {
      "text/plain": [
       "'Hello WorldHello World'"
      ]
     },
     "execution_count": 22,
     "metadata": {},
     "output_type": "execute_result"
    }
   ],
   "source": [
    "a + a"
   ]
  },
  {
   "cell_type": "markdown",
   "id": "e9adc98e-5eb5-4bb0-93d2-efde14788b83",
   "metadata": {},
   "source": [
    "### Lists"
   ]
  },
  {
   "cell_type": "code",
   "execution_count": 23,
   "id": "673d2cd2-a2e9-4d22-a44e-5fa21ab1ede6",
   "metadata": {},
   "outputs": [
    {
     "data": {
      "text/plain": [
       "[1, 2, 3]"
      ]
     },
     "execution_count": 23,
     "metadata": {},
     "output_type": "execute_result"
    }
   ],
   "source": [
    "[1, 2, 3]"
   ]
  },
  {
   "cell_type": "code",
   "execution_count": 24,
   "id": "9be7ca89-4afd-4645-bbd0-3cc148ec02ff",
   "metadata": {},
   "outputs": [
    {
     "data": {
      "text/plain": [
       "['Cookie Dough', 'Strawberry', 'Chocolate']"
      ]
     },
     "execution_count": 24,
     "metadata": {},
     "output_type": "execute_result"
    }
   ],
   "source": [
    "[\"Cookie Dough\", \"Strawberry\", \"Chocolate\"]"
   ]
  },
  {
   "cell_type": "code",
   "execution_count": 25,
   "id": "8af9dda2-c9dc-425e-bfeb-b6fa823ffe15",
   "metadata": {},
   "outputs": [
    {
     "name": "stdout",
     "output_type": "stream",
     "text": [
      "['Cookie Dough', 'Strawberry', 'Chocolate']\n"
     ]
    }
   ],
   "source": [
    "x = [\"Cookie Dough\", \"Strawberry\", \"Chocolate\"]\n",
    "print(x)"
   ]
  },
  {
   "cell_type": "code",
   "execution_count": 26,
   "id": "44209cce-b18a-4301-a3d2-7cadcd7808e2",
   "metadata": {},
   "outputs": [
    {
     "data": {
      "text/plain": [
       "['Vanilla', 3, ['Scoops', 'Spoon'], True]"
      ]
     },
     "execution_count": 26,
     "metadata": {},
     "output_type": "execute_result"
    }
   ],
   "source": [
    "# Several Data types in one list is permitted\n",
    "['Vanilla', 3, ['Scoops', 'Spoon'], True]"
   ]
  },
  {
   "cell_type": "code",
   "execution_count": 27,
   "id": "a0d10c97-4577-4407-b976-268f7707917a",
   "metadata": {},
   "outputs": [
    {
     "name": "stdout",
     "output_type": "stream",
     "text": [
      "['Cookie Dough', 'Strawberry', 'Chocolate']\n"
     ]
    }
   ],
   "source": [
    "ice_cream = [\"Cookie Dough\", \"Strawberry\", \"Chocolate\"]\n",
    "print(ice_cream)"
   ]
  },
  {
   "cell_type": "code",
   "execution_count": 28,
   "id": "0944ceb3",
   "metadata": {},
   "outputs": [
    {
     "name": "stdout",
     "output_type": "stream",
     "text": [
      "['Cookie Dough', 'Strawberry', 'Chocolate', 'Salted Caramel']\n"
     ]
    }
   ],
   "source": [
    "ice_cream.append(\"Salted Caramel\")\n",
    "print(ice_cream)"
   ]
  },
  {
   "cell_type": "code",
   "execution_count": 29,
   "id": "470180f9-0f1a-402c-8de4-e36c3a6f176d",
   "metadata": {},
   "outputs": [],
   "source": [
    "ice_cream.append(5)"
   ]
  },
  {
   "cell_type": "code",
   "execution_count": 30,
   "id": "809c6ea5",
   "metadata": {},
   "outputs": [
    {
     "name": "stdout",
     "output_type": "stream",
     "text": [
      "['Cookie Dough', 'Strawberry', 'Chocolate', 'Salted Caramel', 5]\n"
     ]
    }
   ],
   "source": [
    "print(ice_cream)"
   ]
  },
  {
   "cell_type": "code",
   "execution_count": 31,
   "id": "d0e78247",
   "metadata": {},
   "outputs": [],
   "source": [
    "ice_cream[0] = \"Butter Peacon\""
   ]
  },
  {
   "cell_type": "code",
   "execution_count": 32,
   "id": "b60b5732",
   "metadata": {},
   "outputs": [
    {
     "data": {
      "text/plain": [
       "5"
      ]
     },
     "execution_count": 32,
     "metadata": {},
     "output_type": "execute_result"
    }
   ],
   "source": [
    "ice_cream.pop()"
   ]
  },
  {
   "cell_type": "code",
   "execution_count": 33,
   "id": "a5e342cb",
   "metadata": {},
   "outputs": [
    {
     "data": {
      "text/plain": [
       "['Butter Peacon', 'Strawberry', 'Chocolate', 'Salted Caramel']"
      ]
     },
     "execution_count": 33,
     "metadata": {},
     "output_type": "execute_result"
    }
   ],
   "source": [
    "ice_cream"
   ]
  },
  {
   "cell_type": "code",
   "execution_count": 34,
   "id": "617485ce",
   "metadata": {},
   "outputs": [
    {
     "data": {
      "text/plain": [
       "'Spoon'"
      ]
     },
     "execution_count": 34,
     "metadata": {},
     "output_type": "execute_result"
    }
   ],
   "source": [
    "nested_list = ['Vanilla', 3, ['Scoops', 'Spoon'], True]\n",
    "nested_list[2][1]"
   ]
  },
  {
   "cell_type": "markdown",
   "id": "fc4a4a13",
   "metadata": {},
   "source": [
    "### Tuples\n",
    "- It can't be modified after being created"
   ]
  },
  {
   "cell_type": "code",
   "execution_count": 35,
   "id": "ce928e89-b434-4f10-8a75-27afbb20b8f7",
   "metadata": {},
   "outputs": [],
   "source": [
    "tuple_scoops = (1,2,3,2,1)"
   ]
  },
  {
   "cell_type": "code",
   "execution_count": 36,
   "id": "33c57354-e41f-4dec-9458-76db6823877f",
   "metadata": {},
   "outputs": [
    {
     "data": {
      "text/plain": [
       "tuple"
      ]
     },
     "execution_count": 36,
     "metadata": {},
     "output_type": "execute_result"
    }
   ],
   "source": [
    "type(tuple_scoops)"
   ]
  },
  {
   "cell_type": "code",
   "execution_count": 37,
   "id": "1c85c5ed-15e2-49cb-9699-9a59e36a687c",
   "metadata": {},
   "outputs": [
    {
     "data": {
      "text/plain": [
       "1"
      ]
     },
     "execution_count": 37,
     "metadata": {},
     "output_type": "execute_result"
    }
   ],
   "source": [
    "tuple_scoops[0]"
   ]
  },
  {
   "cell_type": "markdown",
   "id": "abd3c65a",
   "metadata": {},
   "source": [
    "### Sets\n",
    "- Can't have duplicate elements"
   ]
  },
  {
   "cell_type": "code",
   "execution_count": 38,
   "id": "404775fa-efe2-48ab-a7f4-ce2166e224d5",
   "metadata": {},
   "outputs": [],
   "source": [
    "daily_pints = {1,2,3}"
   ]
  },
  {
   "cell_type": "code",
   "execution_count": 39,
   "id": "f6e84eac-79a4-456b-a24c-9199e95884e4",
   "metadata": {},
   "outputs": [
    {
     "data": {
      "text/plain": [
       "set"
      ]
     },
     "execution_count": 39,
     "metadata": {},
     "output_type": "execute_result"
    }
   ],
   "source": [
    "type(daily_pints)"
   ]
  },
  {
   "cell_type": "code",
   "execution_count": 40,
   "id": "65434ea6-9a54-4589-a5ef-c3f05a2582f3",
   "metadata": {},
   "outputs": [
    {
     "name": "stdout",
     "output_type": "stream",
     "text": [
      "{1, 2, 3}\n"
     ]
    }
   ],
   "source": [
    "print(daily_pints)"
   ]
  },
  {
   "cell_type": "code",
   "execution_count": 41,
   "id": "1aa2358f-2af7-43fc-85ea-55b825594ed9",
   "metadata": {},
   "outputs": [],
   "source": [
    "daily_pints_log = {1,2,3,4,1,2,3,4,1,2,3,4,5,6}"
   ]
  },
  {
   "cell_type": "code",
   "execution_count": 42,
   "id": "5ec17fb4-6a7e-4d28-8383-6e852592cf09",
   "metadata": {},
   "outputs": [
    {
     "data": {
      "text/plain": [
       "{1, 2, 3, 4, 5, 6}"
      ]
     },
     "execution_count": 42,
     "metadata": {},
     "output_type": "execute_result"
    }
   ],
   "source": [
    "daily_pints_log"
   ]
  },
  {
   "cell_type": "code",
   "execution_count": 43,
   "id": "280b951c-df5b-4ea2-9c46-34a4dc9a1165",
   "metadata": {},
   "outputs": [],
   "source": [
    "wife_daily_pints_log = {1,3,5,7,3,24,5,7,3,2,0}"
   ]
  },
  {
   "cell_type": "code",
   "execution_count": 44,
   "id": "ce26e87b-1010-4899-863c-efa455bc7b43",
   "metadata": {},
   "outputs": [
    {
     "data": {
      "text/plain": [
       "{0, 1, 2, 3, 4, 5, 6, 7, 24}"
      ]
     },
     "execution_count": 44,
     "metadata": {},
     "output_type": "execute_result"
    }
   ],
   "source": [
    "# Returns the union of the 2 sets together\n",
    "daily_pints_log | wife_daily_pints_log "
   ]
  },
  {
   "cell_type": "code",
   "execution_count": 45,
   "id": "0a2db696-d3ae-44d2-bb08-d28b01b2ce03",
   "metadata": {},
   "outputs": [
    {
     "data": {
      "text/plain": [
       "{1, 2, 3, 5}"
      ]
     },
     "execution_count": 45,
     "metadata": {},
     "output_type": "execute_result"
    }
   ],
   "source": [
    "# Returns the intersection of the 2 sets together\n",
    "daily_pints_log & wife_daily_pints_log "
   ]
  },
  {
   "cell_type": "code",
   "execution_count": 46,
   "id": "596ad6d7-7366-4b65-a9fc-bc15537c78a1",
   "metadata": {},
   "outputs": [
    {
     "data": {
      "text/plain": [
       "{4, 6}"
      ]
     },
     "execution_count": 46,
     "metadata": {},
     "output_type": "execute_result"
    }
   ],
   "source": [
    "# Returns the the 1st set - it's intersection with the other set\n",
    "daily_pints_log - wife_daily_pints_log"
   ]
  },
  {
   "cell_type": "code",
   "execution_count": 47,
   "id": "4775b210-410e-4ba0-ba3c-b4624835cd52",
   "metadata": {},
   "outputs": [
    {
     "data": {
      "text/plain": [
       "{0, 7, 24}"
      ]
     },
     "execution_count": 47,
     "metadata": {},
     "output_type": "execute_result"
    }
   ],
   "source": [
    "wife_daily_pints_log - daily_pints_log"
   ]
  },
  {
   "cell_type": "code",
   "execution_count": 48,
   "id": "f4631829-c9ec-4ff0-946e-85c146b97b43",
   "metadata": {},
   "outputs": [
    {
     "data": {
      "text/plain": [
       "{0, 4, 6, 7, 24}"
      ]
     },
     "execution_count": 48,
     "metadata": {},
     "output_type": "execute_result"
    }
   ],
   "source": [
    "# Returns the values that is not in commen in both sets\n",
    "daily_pints_log ^ wife_daily_pints_log"
   ]
  },
  {
   "cell_type": "markdown",
   "id": "0b6c4723",
   "metadata": {},
   "source": [
    "### Dictionaries\n",
    "- The most different out of them\n",
    "- must have a Key and a value for each index"
   ]
  },
  {
   "cell_type": "code",
   "execution_count": 49,
   "id": "92ea9285-94b3-4be5-bbc0-d9d8b568e37e",
   "metadata": {},
   "outputs": [],
   "source": [
    "dict_cream = {'name': 'Marwan Eltaieby', 'weekly intake': 5, 'favourite ice creams': ['Chocolate', 'Vanilla']}"
   ]
  },
  {
   "cell_type": "code",
   "execution_count": 50,
   "id": "45c4d0b0-0936-4a1c-909c-14bd26c411a9",
   "metadata": {},
   "outputs": [
    {
     "data": {
      "text/plain": [
       "dict"
      ]
     },
     "execution_count": 50,
     "metadata": {},
     "output_type": "execute_result"
    }
   ],
   "source": [
    "type(dict_cream)"
   ]
  },
  {
   "cell_type": "code",
   "execution_count": 51,
   "id": "e568fd73-13a1-4d51-9144-4fb439382d4c",
   "metadata": {},
   "outputs": [
    {
     "data": {
      "text/plain": [
       "dict_values(['Marwan Eltaieby', 5, ['Chocolate', 'Vanilla']])"
      ]
     },
     "execution_count": 51,
     "metadata": {},
     "output_type": "execute_result"
    }
   ],
   "source": [
    "dict_cream.values()"
   ]
  },
  {
   "cell_type": "code",
   "execution_count": 52,
   "id": "f82d80f0-5950-4b87-8db3-84aa48dabe72",
   "metadata": {},
   "outputs": [
    {
     "data": {
      "text/plain": [
       "dict_keys(['name', 'weekly intake', 'favourite ice creams'])"
      ]
     },
     "execution_count": 52,
     "metadata": {},
     "output_type": "execute_result"
    }
   ],
   "source": [
    "dict_cream.keys()"
   ]
  },
  {
   "cell_type": "code",
   "execution_count": 53,
   "id": "8a90e539-d137-437c-a35b-46d1253913d2",
   "metadata": {},
   "outputs": [
    {
     "data": {
      "text/plain": [
       "dict_items([('name', 'Marwan Eltaieby'), ('weekly intake', 5), ('favourite ice creams', ['Chocolate', 'Vanilla'])])"
      ]
     },
     "execution_count": 53,
     "metadata": {},
     "output_type": "execute_result"
    }
   ],
   "source": [
    "dict_cream.items()"
   ]
  },
  {
   "cell_type": "code",
   "execution_count": 54,
   "id": "534c27ec-ea91-41cf-8f25-880b21232d63",
   "metadata": {},
   "outputs": [
    {
     "data": {
      "text/plain": [
       "'Marwan Eltaieby'"
      ]
     },
     "execution_count": 54,
     "metadata": {},
     "output_type": "execute_result"
    }
   ],
   "source": [
    "# to get an index inside a dictionary you must call the key\n",
    "dict_cream['name']"
   ]
  },
  {
   "cell_type": "code",
   "execution_count": 55,
   "id": "9c82dc28-826f-49f8-894f-533691c0f0f4",
   "metadata": {},
   "outputs": [],
   "source": [
    "dict_cream['name'] = 'Marwan Hamdy'"
   ]
  },
  {
   "cell_type": "code",
   "execution_count": 56,
   "id": "1fdd501c-897d-4691-9f11-e0a4b50573cd",
   "metadata": {},
   "outputs": [
    {
     "data": {
      "text/plain": [
       "{'name': 'Marwan Hamdy',\n",
       " 'weekly intake': 5,\n",
       " 'favourite ice creams': ['Chocolate', 'Vanilla']}"
      ]
     },
     "execution_count": 56,
     "metadata": {},
     "output_type": "execute_result"
    }
   ],
   "source": [
    "dict_cream"
   ]
  },
  {
   "cell_type": "code",
   "execution_count": null,
   "id": "bb348517-fde6-4d85-af33-d83bd3513659",
   "metadata": {},
   "outputs": [],
   "source": []
  },
  {
   "cell_type": "code",
   "execution_count": null,
   "id": "486f41f7-6552-4d6e-8066-dc501515ecce",
   "metadata": {},
   "outputs": [],
   "source": []
  },
  {
   "cell_type": "code",
   "execution_count": null,
   "id": "f9106abd-7095-4449-b225-e06a37296b85",
   "metadata": {},
   "outputs": [],
   "source": []
  },
  {
   "cell_type": "code",
   "execution_count": null,
   "id": "87c8d180-bebe-4141-b7ec-2367e298fffb",
   "metadata": {},
   "outputs": [],
   "source": []
  },
  {
   "cell_type": "code",
   "execution_count": null,
   "id": "57200235-6eb8-44e0-9914-c7075ac83529",
   "metadata": {},
   "outputs": [],
   "source": []
  },
  {
   "cell_type": "code",
   "execution_count": null,
   "id": "fb429e62-5d38-44d6-9b6e-6103a6d4bee7",
   "metadata": {},
   "outputs": [],
   "source": []
  },
  {
   "cell_type": "code",
   "execution_count": null,
   "id": "e7df1f3e-505f-4d60-9e32-e6353f2fae6b",
   "metadata": {},
   "outputs": [],
   "source": []
  },
  {
   "cell_type": "code",
   "execution_count": null,
   "id": "f5341887-cd6c-4902-a9b0-fca424ea61a7",
   "metadata": {},
   "outputs": [],
   "source": []
  },
  {
   "cell_type": "code",
   "execution_count": null,
   "id": "dd1da4da-b8a3-48b8-b4d5-caafdd255ff1",
   "metadata": {},
   "outputs": [],
   "source": []
  },
  {
   "cell_type": "code",
   "execution_count": null,
   "id": "aff49260-c1a6-4cfe-a6d7-d013553dc49a",
   "metadata": {},
   "outputs": [],
   "source": []
  },
  {
   "cell_type": "code",
   "execution_count": null,
   "id": "dc56a1ee-795e-452e-bc55-18b582be7d03",
   "metadata": {},
   "outputs": [],
   "source": []
  },
  {
   "cell_type": "code",
   "execution_count": null,
   "id": "3d682a87-e1f8-44b7-be91-cc90896fee4b",
   "metadata": {},
   "outputs": [],
   "source": []
  },
  {
   "cell_type": "code",
   "execution_count": null,
   "id": "a234a146-0b85-412c-9aad-190252021c90",
   "metadata": {},
   "outputs": [],
   "source": []
  },
  {
   "cell_type": "code",
   "execution_count": null,
   "id": "4120b1da-b7ac-46ee-a937-95ca60065e65",
   "metadata": {},
   "outputs": [],
   "source": []
  },
  {
   "cell_type": "code",
   "execution_count": null,
   "id": "c780a773-1ecd-4eb5-84f3-c5a3f05d1f40",
   "metadata": {},
   "outputs": [],
   "source": []
  },
  {
   "cell_type": "code",
   "execution_count": null,
   "id": "666c84c9-3c0e-4e06-bd71-b483ec303132",
   "metadata": {},
   "outputs": [],
   "source": []
  },
  {
   "cell_type": "code",
   "execution_count": null,
   "id": "b21560f2-92eb-4f25-98e2-3a2c6042de4b",
   "metadata": {},
   "outputs": [],
   "source": []
  },
  {
   "cell_type": "code",
   "execution_count": null,
   "id": "e0ec3722-4493-4d6d-b665-c7063e7239b2",
   "metadata": {},
   "outputs": [],
   "source": []
  },
  {
   "cell_type": "code",
   "execution_count": null,
   "id": "f33258a9-bba3-4023-93b2-f4748f9e2f6c",
   "metadata": {},
   "outputs": [],
   "source": []
  },
  {
   "cell_type": "code",
   "execution_count": null,
   "id": "1e1f6f47-45f2-4131-b768-5667c1d8cbe9",
   "metadata": {},
   "outputs": [],
   "source": []
  },
  {
   "cell_type": "code",
   "execution_count": null,
   "id": "42b14836-4796-4ca5-aa01-f7a4b4870d24",
   "metadata": {},
   "outputs": [],
   "source": []
  },
  {
   "cell_type": "code",
   "execution_count": null,
   "id": "4579187a-5f9d-4efb-b154-b3faca14be6c",
   "metadata": {},
   "outputs": [],
   "source": []
  },
  {
   "cell_type": "code",
   "execution_count": null,
   "id": "339eeea0-ffb7-4b27-939f-af9c2f802575",
   "metadata": {},
   "outputs": [],
   "source": []
  },
  {
   "cell_type": "code",
   "execution_count": null,
   "id": "a8613c62-0ffc-46fc-9026-98425934c6a0",
   "metadata": {},
   "outputs": [],
   "source": []
  },
  {
   "cell_type": "code",
   "execution_count": null,
   "id": "4138e56d-1b79-4902-b7f9-ff631bf05615",
   "metadata": {},
   "outputs": [],
   "source": []
  },
  {
   "cell_type": "code",
   "execution_count": null,
   "id": "c91778f4-8ee7-43e3-ac6d-ccde6cfd0d68",
   "metadata": {},
   "outputs": [],
   "source": []
  },
  {
   "cell_type": "code",
   "execution_count": null,
   "id": "0fcbfc82-fa1d-4179-9215-dd5ed3b37742",
   "metadata": {},
   "outputs": [],
   "source": []
  },
  {
   "cell_type": "code",
   "execution_count": null,
   "id": "d2a5f804-2a50-4d3c-84c3-58d6c0f4f668",
   "metadata": {},
   "outputs": [],
   "source": []
  },
  {
   "cell_type": "code",
   "execution_count": null,
   "id": "2cadddc9-979c-4f3e-8f0c-489ca1c2a56e",
   "metadata": {},
   "outputs": [],
   "source": []
  },
  {
   "cell_type": "code",
   "execution_count": null,
   "id": "b40b5565-ff38-49c9-af44-838517738c64",
   "metadata": {},
   "outputs": [],
   "source": []
  },
  {
   "cell_type": "code",
   "execution_count": null,
   "id": "6725ab10-78d8-40c9-b913-88b2fff9b15a",
   "metadata": {},
   "outputs": [],
   "source": []
  },
  {
   "cell_type": "code",
   "execution_count": null,
   "id": "3565a43f-f5b0-4846-a7c7-3f930da89c94",
   "metadata": {},
   "outputs": [],
   "source": [
    "\n"
   ]
  }
 ],
 "metadata": {
  "kernelspec": {
   "display_name": "Python 3 (ipykernel)",
   "language": "python",
   "name": "python3"
  },
  "language_info": {
   "codemirror_mode": {
    "name": "ipython",
    "version": 3
   },
   "file_extension": ".py",
   "mimetype": "text/x-python",
   "name": "python",
   "nbconvert_exporter": "python",
   "pygments_lexer": "ipython3",
   "version": "3.12.2"
  }
 },
 "nbformat": 4,
 "nbformat_minor": 5
}
