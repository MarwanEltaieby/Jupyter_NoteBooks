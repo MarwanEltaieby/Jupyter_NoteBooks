{
 "cells": [
  {
   "cell_type": "markdown",
   "metadata": {},
   "source": [
    "# BMI Calculator Project\n",
    "\n",
    "_Note:_\n",
    "\n",
    "BMI = (Weight in pounds * 703) / (Height in inches * Height in inches)"
   ]
  },
  {
   "cell_type": "code",
   "execution_count": 11,
   "metadata": {},
   "outputs": [],
   "source": [
    "# take input from the user\n",
    "weight = int(input('Enter Your weight in pounds'))\n",
    "height_in_feet = int(input('Enter your highet in feet'))\n",
    "height_remainder_in_inches = int(input('Enter the remaining inches'))\n",
    "height_in_inches = (height_in_feet * 12) + height_remainder_in_inches"
   ]
  },
  {
   "cell_type": "code",
   "execution_count": 12,
   "metadata": {},
   "outputs": [
    {
     "name": "stdout",
     "output_type": "stream",
     "text": [
      "25.101869355177485\n"
     ]
    }
   ],
   "source": [
    "# calculate the BMI\n",
    "bmi = (weight * 703) / (height_in_inches * height_in_inches)\n"
   ]
  },
  {
   "cell_type": "code",
   "execution_count": 13,
   "metadata": {},
   "outputs": [],
   "source": [
    "# calculating the classification and the health risk of the bmi\n",
    "classification = ''\n",
    "health_risk = ''\n",
    "if bmi < 18.5:\n",
    "    classification = 'Underweight'\n",
    "    health_risk = 'Minimal'\n",
    "elif bmi < 25:\n",
    "    classification = 'Normal Weight'\n",
    "    health_risk = 'Minimal'\n",
    "elif bmi < 30:\n",
    "    classification = 'Overweight'\n",
    "    health_risk = 'Increased'\n",
    "elif bmi < 35:\n",
    "    classification = 'Obese'\n",
    "    health_risk = 'High'\n",
    "elif bmi < 40:\n",
    "    classification = 'Severely Obese'\n",
    "    health_risk = 'Very High'\n",
    "elif bmi >= 40:\n",
    "    classification = 'Norbidly Obese'\n",
    "    health_risk = 'Extremely High'\n",
    "else:\n",
    "    print('incorrect BMI')\n"
   ]
  },
  {
   "cell_type": "code",
   "execution_count": 16,
   "metadata": {},
   "outputs": [
    {
     "name": "stdout",
     "output_type": "stream",
     "text": [
      "Weight: 170\n",
      "Height: 5 ' 9 \"  \n",
      "BMI: 25.101869355177485\n",
      "Classification: Overweight\n",
      "Health Risk: Increased\n"
     ]
    }
   ],
   "source": [
    "# printing the results\n",
    "print('Weight:', weight)\n",
    "print('Height:', height_in_feet, \"'\", height_remainder_in_inches, \"\"\"\"  \"\"\")\n",
    "print('BMI:', bmi)\n",
    "print('Classification:', classification)\n",
    "print('Health Risk:', health_risk)\n"
   ]
  },
  {
   "cell_type": "code",
   "execution_count": 1,
   "metadata": {},
   "outputs": [
    {
     "name": "stdout",
     "output_type": "stream",
     "text": [
      "Weight: 170\n",
      "Height: 5 ' 9 \"  \n",
      "BMI: 25.101869355177485\n",
      "Classification: Overweight\n",
      "Health Risk: Increased\n"
     ]
    }
   ],
   "source": [
    "#Combinning the project in one block\n",
    "\n",
    "# take input from the user\n",
    "weight = int(input('Enter Your weight in pounds'))\n",
    "height_in_feet = int(input('Enter your highet in feet'))\n",
    "height_remainder_in_inches = int(input('Enter the remaining inches'))\n",
    "height_in_inches = (height_in_feet * 12) + height_remainder_in_inches\n",
    "\n",
    "# calculate the BMI\n",
    "bmi = (weight * 703) / (height_in_inches * height_in_inches)\n",
    "\n",
    "# calculating the classification and the health risk of the bmi\n",
    "classification = ''\n",
    "health_risk = ''\n",
    "if bmi < 0:\n",
    "    print('ERROR!')\n",
    "    classification = 'ERROR!'\n",
    "    health_risk = 'ERROR!'\n",
    "elif bmi < 18.5:\n",
    "    classification = 'Underweight'\n",
    "    health_risk = 'Minimal'\n",
    "elif bmi < 25:\n",
    "    classification = 'Normal Weight'\n",
    "    health_risk = 'Minimal'\n",
    "elif bmi < 30:\n",
    "    classification = 'Overweight'\n",
    "    health_risk = 'Increased'\n",
    "elif bmi < 35:\n",
    "    classification = 'Obese'\n",
    "    health_risk = 'High'\n",
    "elif bmi < 40:\n",
    "    classification = 'Severely Obese'\n",
    "    health_risk = 'Very High'\n",
    "elif bmi >= 40:\n",
    "    classification = 'Norbidly Obese'\n",
    "    health_risk = 'Extremely High'\n",
    "else:\n",
    "    print('incorrect BMI')\n",
    "\n",
    "# printing the results\n",
    "print('Weight:', weight)\n",
    "print('Height:', height_in_feet, \"'\", height_remainder_in_inches, \"\"\"\"  \"\"\")\n",
    "print('BMI:', bmi)\n",
    "print('Classification:', classification)\n",
    "print('Health Risk:', health_risk)\n"
   ]
  },
  {
   "cell_type": "code",
   "execution_count": null,
   "metadata": {},
   "outputs": [],
   "source": []
  },
  {
   "cell_type": "code",
   "execution_count": null,
   "metadata": {},
   "outputs": [],
   "source": []
  },
  {
   "cell_type": "code",
   "execution_count": null,
   "metadata": {},
   "outputs": [],
   "source": []
  },
  {
   "cell_type": "code",
   "execution_count": null,
   "metadata": {},
   "outputs": [],
   "source": []
  },
  {
   "cell_type": "code",
   "execution_count": null,
   "metadata": {},
   "outputs": [],
   "source": []
  },
  {
   "cell_type": "code",
   "execution_count": null,
   "metadata": {},
   "outputs": [],
   "source": []
  },
  {
   "cell_type": "code",
   "execution_count": null,
   "metadata": {},
   "outputs": [],
   "source": []
  },
  {
   "cell_type": "code",
   "execution_count": null,
   "metadata": {},
   "outputs": [],
   "source": []
  },
  {
   "cell_type": "code",
   "execution_count": null,
   "metadata": {},
   "outputs": [],
   "source": []
  },
  {
   "cell_type": "code",
   "execution_count": null,
   "metadata": {},
   "outputs": [],
   "source": []
  },
  {
   "cell_type": "code",
   "execution_count": null,
   "metadata": {},
   "outputs": [],
   "source": []
  },
  {
   "cell_type": "code",
   "execution_count": null,
   "metadata": {},
   "outputs": [],
   "source": []
  }
 ],
 "metadata": {
  "kernelspec": {
   "display_name": "Python 3",
   "language": "python",
   "name": "python3"
  },
  "language_info": {
   "codemirror_mode": {
    "name": "ipython",
    "version": 3
   },
   "file_extension": ".py",
   "mimetype": "text/x-python",
   "name": "python",
   "nbconvert_exporter": "python",
   "pygments_lexer": "ipython3",
   "version": "3.12.2"
  }
 },
 "nbformat": 4,
 "nbformat_minor": 2
}
